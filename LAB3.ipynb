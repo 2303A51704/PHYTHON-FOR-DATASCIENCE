{
  "nbformat": 4,
  "nbformat_minor": 0,
  "metadata": {
    "colab": {
      "provenance": [],
      "authorship_tag": "ABX9TyNs70RKYuP1NMSain5znEQI",
      "include_colab_link": true
    },
    "kernelspec": {
      "name": "python3",
      "display_name": "Python 3"
    },
    "language_info": {
      "name": "python"
    }
  },
  "cells": [
    {
      "cell_type": "markdown",
      "metadata": {
        "id": "view-in-github",
        "colab_type": "text"
      },
      "source": [
        "<a href=\"https://colab.research.google.com/github/2303A51704/PHYTHON-FOR-DATASCIENCE/blob/main/LAB3.ipynb\" target=\"_parent\"><img src=\"https://colab.research.google.com/assets/colab-badge.svg\" alt=\"Open In Colab\"/></a>"
      ]
    },
    {
      "cell_type": "code",
      "source": [
        "import numpy as np\n",
        "import matplotlib.pyplot as plt"
      ],
      "metadata": {
        "id": "sRDpxUoCcxV0"
      },
      "execution_count": null,
      "outputs": []
    },
    {
      "cell_type": "code",
      "source": [
        "scores = np.array([\n",
        "    [78, 85, 90, 95],\n",
        "    [88, 92, 80, 76],\n",
        "    [90, 87, 93, 89],\n",
        "    [65, 70, 72, 68]\n",
        "])\n",
        "\n",
        "row_mean = np.mean(scores, axis=1)\n",
        "print(\"\\nRow-wise Mean (Avg per student):\", row_mean)\n",
        "\n",
        "col_mean = np.mean(scores, axis=0)\n",
        "print(\"\\nColumn-wise Mean (Avg per test):\", col_mean)"
      ],
      "metadata": {
        "colab": {
          "base_uri": "https://localhost:8080/"
        },
        "id": "0ao-jCHXYc-B",
        "outputId": "20ddfa8e-16e1-4ced-c2f1-d9e365a1a149"
      },
      "execution_count": null,
      "outputs": [
        {
          "output_type": "stream",
          "name": "stdout",
          "text": [
            "\n",
            "Row-wise Mean (Avg per student): [87.   84.   89.75 68.75]\n",
            "\n",
            "Column-wise Mean (Avg per test): [80.25 83.5  83.75 82.  ]\n"
          ]
        }
      ]
    },
    {
      "cell_type": "code",
      "source": [
        "row_std = np.std(scores, axis=1)\n",
        "row_var = np.var(scores, axis=1)\n",
        "print(\"\\nRow-wise Standard Deviation:\", row_std)\n",
        "print(\"Row-wise Variance:\", row_var)\n",
        "\n",
        "col_std = np.std(scores, axis=0)\n",
        "col_var = np.var(scores, axis=0)\n",
        "print(\"\\nColumn-wise Standard Deviation:\", col_std)\n",
        "print(\"Column-wise Variance:\", col_var)"
      ],
      "metadata": {
        "colab": {
          "base_uri": "https://localhost:8080/"
        },
        "id": "UofMlht8Yc7W",
        "outputId": "8d7c87a9-1b3e-43be-bf02-09e6cab02f7d"
      },
      "execution_count": null,
      "outputs": [
        {
          "output_type": "stream",
          "name": "stdout",
          "text": [
            "\n",
            "Row-wise Standard Deviation: [6.28490254 6.32455532 2.16506351 2.58602011]\n",
            "Row-wise Variance: [39.5    40.      4.6875  6.6875]\n",
            "\n",
            "Column-wise Standard Deviation: [ 9.90896059  8.20060973  8.31790238 10.60660172]\n",
            "Column-wise Variance: [ 98.1875  67.25    69.1875 112.5   ]\n"
          ]
        }
      ]
    },
    {
      "cell_type": "code",
      "source": [
        "global_max = np.max(scores)\n",
        "global_min = np.min(scores)\n",
        "print(\"\\nGlobal Max:\", global_max)\n",
        "print(\"Global Min:\", global_min)\n"
      ],
      "metadata": {
        "colab": {
          "base_uri": "https://localhost:8080/"
        },
        "id": "R4eowjJcYc4_",
        "outputId": "e915d5dd-daec-4404-aeab-6f3cab2c7e57"
      },
      "execution_count": null,
      "outputs": [
        {
          "output_type": "stream",
          "name": "stdout",
          "text": [
            "\n",
            "Global Max: 95\n",
            "Global Min: 65\n"
          ]
        }
      ]
    },
    {
      "cell_type": "code",
      "source": [
        "max_idx = np.unravel_index(np.argmax(scores), scores.shape)\n",
        "min_idx = np.unravel_index(np.argmin(scores), scores.shape)\n",
        "print(\"Index of Global Max:\", max_idx)\n",
        "print(\"Index of Global Min:\", min_idx)"
      ],
      "metadata": {
        "colab": {
          "base_uri": "https://localhost:8080/"
        },
        "id": "9fVcO5lJYc2s",
        "outputId": "806c89a7-1ac0-4749-e39d-d598796cf3f1"
      },
      "execution_count": null,
      "outputs": [
        {
          "output_type": "stream",
          "name": "stdout",
          "text": [
            "Index of Global Max: (np.int64(0), np.int64(3))\n",
            "Index of Global Min: (np.int64(3), np.int64(0))\n"
          ]
        }
      ]
    },
    {
      "cell_type": "code",
      "source": [
        "image = np.random.randint(0, 256, size=(3, 3, 3), dtype=np.uint8)\n",
        "\n",
        "print(\"Original RGB Image Matrix:\\n\", image)\n",
        "\n",
        "red_channel = image[:, :, 0]\n",
        "green_channel = image[:, :, 1]\n",
        "blue_channel = image[:, :, 2]\n",
        "\n",
        "print(\"\\nRed Channel:\\n\", red_channel)\n",
        "print(\"\\nGreen Channel:\\n\", green_channel)\n",
        "print(\"\\nBlue Channel:\\n\", blue_channel)\n",
        "\n"
      ],
      "metadata": {
        "colab": {
          "base_uri": "https://localhost:8080/"
        },
        "id": "Tq16zOHSYc0U",
        "outputId": "15b412f4-723b-45c1-f3b3-e33c91c4e720"
      },
      "execution_count": null,
      "outputs": [
        {
          "output_type": "stream",
          "name": "stdout",
          "text": [
            "Original RGB Image Matrix:\n",
            " [[[ 32 113  60]\n",
            "  [ 32  51  69]\n",
            "  [242  76 169]]\n",
            "\n",
            " [[196 182 187]\n",
            "  [ 14 146  54]\n",
            "  [141  34 101]]\n",
            "\n",
            " [[102  84  69]\n",
            "  [246  44 221]\n",
            "  [134  45  60]]]\n",
            "\n",
            "Red Channel:\n",
            " [[ 32  32 242]\n",
            " [196  14 141]\n",
            " [102 246 134]]\n",
            "\n",
            "Green Channel:\n",
            " [[113  51  76]\n",
            " [182 146  34]\n",
            " [ 84  44  45]]\n",
            "\n",
            "Blue Channel:\n",
            " [[ 60  69 169]\n",
            " [187  54 101]\n",
            " [ 69 221  60]]\n"
          ]
        }
      ]
    },
    {
      "cell_type": "code",
      "source": [
        "avg_red = np.mean(red_channel)\n",
        "avg_green = np.mean(green_channel)\n",
        "avg_blue = np.mean(blue_channel)\n",
        "\n",
        "print(\"\\nAverage Red Intensity:\", avg_red)\n",
        "print(\"Average Green Intensity:\", avg_green)\n",
        "print(\"Average Blue Intensity:\", avg_blue)"
      ],
      "metadata": {
        "colab": {
          "base_uri": "https://localhost:8080/"
        },
        "id": "jW1fta7TYcxq",
        "outputId": "2c141ac1-db77-46a3-fb7d-5e508c207c20"
      },
      "execution_count": null,
      "outputs": [
        {
          "output_type": "stream",
          "name": "stdout",
          "text": [
            "\n",
            "Average Red Intensity: 126.55555555555556\n",
            "Average Green Intensity: 86.11111111111111\n",
            "Average Blue Intensity: 110.0\n"
          ]
        }
      ]
    },
    {
      "cell_type": "code",
      "source": [
        "brightened_image = np.clip(image + 50, 0, 255)\n",
        "\n",
        "print(\"\\nBrightened Image Matrix:\\n\", brightened_image)\n",
        "\n",
        "fig, axs = plt.subplots(1, 2, figsize=(8, 4))\n",
        "axs[0].imshow(image)\n",
        "axs[0].set_title('Original RGB Image')\n",
        "axs[0].axis('off')\n",
        "\n",
        "axs[1].imshow(brightened_image)\n",
        "axs[1].set_title('Brightened RGB Image')\n",
        "axs[1].axis('off')\n",
        "\n",
        "plt.tight_layout()\n",
        "plt.show()"
      ],
      "metadata": {
        "colab": {
          "base_uri": "https://localhost:8080/",
          "height": 571
        },
        "id": "1fvEr3hdYcu9",
        "outputId": "2e21c1e1-1640-4fcb-9101-2dad963781d0"
      },
      "execution_count": null,
      "outputs": [
        {
          "output_type": "stream",
          "name": "stdout",
          "text": [
            "\n",
            "Brightened Image Matrix:\n",
            " [[[ 82 163 110]\n",
            "  [ 82 101 119]\n",
            "  [ 36 126 219]]\n",
            "\n",
            " [[246 232 237]\n",
            "  [ 64 196 104]\n",
            "  [191  84 151]]\n",
            "\n",
            " [[152 134 119]\n",
            "  [ 40  94  15]\n",
            "  [184  95 110]]]\n"
          ]
        },
        {
          "output_type": "display_data",
          "data": {
            "text/plain": [
              "<Figure size 800x400 with 2 Axes>"
            ],
            "image/png": "[encoded data removed]"
          },
          "metadata": {}
        }
      ]
    },
    {
      "cell_type": "code",
      "source": [],
      "metadata": {
        "id": "YXmgN3DaYcr_"
      },
      "execution_count": null,
      "outputs": []
    },
    {
      "cell_type": "code",
      "source": [],
      "metadata": {
        "id": "RLRrfbe6Z5i1"
      },
      "execution_count": null,
      "outputs": []
    },
    {
      "cell_type": "code",
      "source": [],
      "metadata": {
        "id": "Zr72N4y3Z5lo"
      },
      "execution_count": null,
      "outputs": []
    },
    {
      "cell_type": "code",
      "source": [],
      "metadata": {
        "id": "nVu0fIE6Z5o_"
      },
      "execution_count": null,
      "outputs": []
    },
    {
      "cell_type": "code",
      "source": [],
      "metadata": {
        "id": "wIE83iemZ5r3"
      },
      "execution_count": null,
      "outputs": []
    },
    {
      "cell_type": "code",
      "source": [],
      "metadata": {
        "id": "2HBhhXV1Z5up"
      },
      "execution_count": null,
      "outputs": []
    },
    {
      "cell_type": "code",
      "source": [],
      "metadata": {
        "id": "afjaUhNrZ5yE"
      },
      "execution_count": null,
      "outputs": []
    }
  ]
}